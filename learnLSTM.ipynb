{
 "cells": [
  {
   "cell_type": "code",
   "execution_count": 16,
   "metadata": {},
   "outputs": [],
   "source": [
    "import kagglehub\n",
    "import pandas as pd\n",
    "import matplotlib.pyplot as plt\n",
    "import warnings\n",
    "import os\n",
    "\n",
    "import torch.nn as nn\n",
    "import torch\n",
    "from torch.utils.data import Dataset, DataLoader\n",
    "import torchtext\n",
    "from torchtext.data.utils import get_tokenizer\n",
    "from sklearn.feature_extraction.text import TfidfVectorizer\n",
    "from sklearn.model_selection import train_test_split, cross_val_score\n",
    "from sklearn.naive_bayes import MultinomialNB\n",
    "from sklearn.metrics import (\n",
    "    accuracy_score, precision_score, recall_score,\n",
    "    f1_score, classification_report, confusion_matrix, ConfusionMatrixDisplay\n",
    ")\n",
    "from torchtext.vocab import Vocab\n",
    "from collections import Counter\n",
    "\n",
    "from kagglehub import KaggleDatasetAdapter\n",
    "    \n",
    "warnings.filterwarnings(\"ignore\")\n",
    "\n",
    "# # !pip3 install torch==2.3.0 torchvision torchaudio --index-url https://download.pytorch.org/whl/cu118\n",
    "# # # !pip uninstall torch torchvision torchaudio -y\n"
   ]
  },
  {
   "cell_type": "code",
   "execution_count": 17,
   "metadata": {},
   "outputs": [
    {
     "name": "stdout",
     "output_type": "stream",
     "text": [
      "[tensor([[ 0.7483, -1.2564, -0.1777]]), tensor([[-0.8497, -0.6588, -0.6634]]), tensor([[-0.0819,  0.5312, -0.5368]]), tensor([[-0.3703, -0.1243, -0.6266]]), tensor([[-0.5575, -1.0728,  2.9771]])]\n"
     ]
    }
   ],
   "source": [
    "lstm = nn.LSTM(3,3) #input dimension is 3 and output is 3\n",
    "\n",
    "\n",
    "\n",
    "# torch.randn(1, 3) generates a 1x3 tensor (1 row, 3 columns) with \n",
    "# values sampled from a standard normal distribution (mean = 0, standard deviation = 1).\n",
    "\n",
    "inputs = [torch.randn(1,3) for _ in range(5)]\n",
    "\n",
    "print(inputs)\n"
   ]
  },
  {
   "cell_type": "code",
   "execution_count": 18,
   "metadata": {},
   "outputs": [
    {
     "name": "stdout",
     "output_type": "stream",
     "text": [
      "(tensor([[[ 1.3134, -2.2887,  2.1301]]]), tensor([[[ 0.9534, -0.7266,  0.2278]]]))\n",
      "\n",
      "out tensor([[[ 0.2829, -0.5359, -0.1180]]], grad_fn=<StackBackward0>)\n",
      "hidden (tensor([[[ 0.2829, -0.5359, -0.1180]]], grad_fn=<StackBackward0>), tensor([[[ 0.6394, -0.7546, -0.1456]]], grad_fn=<StackBackward0>))\n",
      "out tensor([[[ 0.2052, -0.3773, -0.2537]]], grad_fn=<StackBackward0>)\n",
      "hidden (tensor([[[ 0.2052, -0.3773, -0.2537]]], grad_fn=<StackBackward0>), tensor([[[ 0.4569, -0.5003, -0.4993]]], grad_fn=<StackBackward0>))\n",
      "out tensor([[[ 0.2016, -0.4478, -0.3024]]], grad_fn=<StackBackward0>)\n",
      "hidden (tensor([[[ 0.2016, -0.4478, -0.3024]]], grad_fn=<StackBackward0>), tensor([[[ 0.3549, -0.6389, -0.7307]]], grad_fn=<StackBackward0>))\n",
      "out tensor([[[ 0.1443, -0.4259, -0.3556]]], grad_fn=<StackBackward0>)\n",
      "hidden (tensor([[[ 0.1443, -0.4259, -0.3556]]], grad_fn=<StackBackward0>), tensor([[[ 0.2890, -0.5830, -0.8256]]], grad_fn=<StackBackward0>))\n",
      "out tensor([[[-0.1439,  0.2282, -0.3347]]], grad_fn=<StackBackward0>)\n",
      "hidden (tensor([[[-0.1439,  0.2282, -0.3347]]], grad_fn=<StackBackward0>), tensor([[[-0.2918,  0.4510, -0.7852]]], grad_fn=<StackBackward0>))\n"
     ]
    }
   ],
   "source": [
    "# print(torch.randn(1,1,3))\n",
    "# print(torch.randn(1,1,2))\n",
    "# print(torch.randn(1,1))\n",
    "\n",
    "# torch.randn(1, 1, 3) generates three dimensional tensor shape \n",
    "\n",
    "hidden = (torch.randn(1,1,3),torch.randn(1,1,3))\n",
    "\n",
    "print(hidden)\n",
    "\n",
    "print()\n",
    "\n",
    "for i in inputs:\n",
    "    out, hidden = lstm(i.view(1,1, -1), hidden)\n",
    "    print(\"out\", out)\n",
    "    print(\"hidden\", hidden)\n",
    "\n"
   ]
  },
  {
   "cell_type": "code",
   "execution_count": 49,
   "metadata": {},
   "outputs": [
    {
     "name": "stdout",
     "output_type": "stream",
     "text": [
      "tensor([1, 2, 3])\n",
      "\n",
      "tensor([4, 5, 6])\n",
      "tensor([1, 2, 3, 4, 5, 6])\n",
      "\n",
      "tensor([1, 2, 3, 4, 5, 6])\n",
      "\n"
     ]
    }
   ],
   "source": [
    "\n",
    "#Torch.cat(): Concatenates the given sequence of tensors in tensors in the given dimension\n",
    "\n",
    "a = torch.tensor([1, 2, 3])\n",
    "b = torch.tensor([4, 5, 6])\n",
    "\n",
    "print(a)\n",
    "print()\n",
    "print(b)\n",
    "\n",
    "print(torch.cat((a, b), 0))\n",
    "print()\n",
    "print(torch.cat((a, b), 0))\n",
    "print()\n",
    "\n",
    "\n",
    "\n",
    "\n",
    "# inputs = torch.cat(inputs).view(len(inputs),1, -1) \n",
    "# print(inputs)"
   ]
  },
  {
   "cell_type": "code",
   "execution_count": null,
   "metadata": {},
   "outputs": [],
   "source": []
  }
 ],
 "metadata": {
  "kernelspec": {
   "display_name": ".venv",
   "language": "python",
   "name": "python3"
  },
  "language_info": {
   "codemirror_mode": {
    "name": "ipython",
    "version": 3
   },
   "file_extension": ".py",
   "mimetype": "text/x-python",
   "name": "python",
   "nbconvert_exporter": "python",
   "pygments_lexer": "ipython3",
   "version": "3.11.6"
  }
 },
 "nbformat": 4,
 "nbformat_minor": 2
}
