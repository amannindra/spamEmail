{
 "cells": [
  {
   "cell_type": "code",
   "execution_count": 1,
   "metadata": {},
   "outputs": [
    {
     "name": "stderr",
     "output_type": "stream",
     "text": [
      "/Users/aman/Stuff/Programming/spamEmail/.venv/lib/python3.11/site-packages/tqdm/auto.py:21: TqdmWarning: IProgress not found. Please update jupyter and ipywidgets. See https://ipywidgets.readthedocs.io/en/stable/user_install.html\n",
      "  from .autonotebook import tqdm as notebook_tqdm\n",
      "/Users/aman/Stuff/Programming/spamEmail/.venv/lib/python3.11/site-packages/torchtext/data/__init__.py:4: UserWarning: \n",
      "/!\\ IMPORTANT WARNING ABOUT TORCHTEXT STATUS /!\\ \n",
      "Torchtext is deprecated and the last released version will be 0.18 (this one). You can silence this warning by calling the following at the beginnign of your scripts: `import torchtext; torchtext.disable_torchtext_deprecation_warning()`\n",
      "  warnings.warn(torchtext._TORCHTEXT_DEPRECATION_MSG)\n",
      "/Users/aman/Stuff/Programming/spamEmail/.venv/lib/python3.11/site-packages/torchtext/vocab/__init__.py:4: UserWarning: \n",
      "/!\\ IMPORTANT WARNING ABOUT TORCHTEXT STATUS /!\\ \n",
      "Torchtext is deprecated and the last released version will be 0.18 (this one). You can silence this warning by calling the following at the beginnign of your scripts: `import torchtext; torchtext.disable_torchtext_deprecation_warning()`\n",
      "  warnings.warn(torchtext._TORCHTEXT_DEPRECATION_MSG)\n",
      "/Users/aman/Stuff/Programming/spamEmail/.venv/lib/python3.11/site-packages/torchtext/utils.py:4: UserWarning: \n",
      "/!\\ IMPORTANT WARNING ABOUT TORCHTEXT STATUS /!\\ \n",
      "Torchtext is deprecated and the last released version will be 0.18 (this one). You can silence this warning by calling the following at the beginnign of your scripts: `import torchtext; torchtext.disable_torchtext_deprecation_warning()`\n",
      "  warnings.warn(torchtext._TORCHTEXT_DEPRECATION_MSG)\n"
     ]
    }
   ],
   "source": [
    "import kagglehub\n",
    "import pandas as pd\n",
    "import matplotlib.pyplot as plt\n",
    "import warnings\n",
    "import os\n",
    "\n",
    "import torch.nn as nn\n",
    "import torch\n",
    "from torch.utils.data import Dataset, DataLoader\n",
    "import torchtext\n",
    "from torchtext.data.utils import get_tokenizer\n",
    "from sklearn.feature_extraction.text import TfidfVectorizer\n",
    "from sklearn.model_selection import train_test_split, cross_val_score\n",
    "from sklearn.naive_bayes import MultinomialNB\n",
    "from sklearn.metrics import (\n",
    "    accuracy_score, precision_score, recall_score,\n",
    "    f1_score, classification_report, confusion_matrix, ConfusionMatrixDisplay\n",
    ")\n",
    "from torchtext.vocab import Vocab\n",
    "from collections import Counter\n",
    "\n",
    "from kagglehub import KaggleDatasetAdapter\n",
    "    \n",
    "warnings.filterwarnings(\"ignore\")\n",
    "\n",
    "# # !pip3 install torch==2.3.0 torchvision torchaudio --index-url https://download.pytorch.org/whl/cu118\n",
    "# # # !pip uninstall torch torchvision torchaudio -y\n"
   ]
  },
  {
   "cell_type": "code",
   "execution_count": 51,
   "metadata": {},
   "outputs": [
    {
     "name": "stdout",
     "output_type": "stream",
     "text": [
      "[tensor([[0.4111, 1.8445, 0.4159]]), tensor([[0.6666, 0.2463, 1.1012]]), tensor([[0.8125, 0.0060, 2.4067]]), tensor([[-0.2847, -0.7618,  0.4018]]), tensor([[-0.8585,  1.0392, -1.2871]])]\n"
     ]
    }
   ],
   "source": [
    "lstm = nn.LSTM(3,3) #input dimension is 3 and output is 3\n",
    "\n",
    "\n",
    "# torch.randn(1, 3) generates a 1x3 tensor (1 row, 3 columns) with \n",
    "# values sampled from a standard normal distribution (mean = 0, standard deviation = 1).\n",
    "\n",
    "inputs = [torch.randn(1,3) for _ in range(5)]\n",
    "\n",
    "print(inputs)\n"
   ]
  },
  {
   "cell_type": "code",
   "execution_count": 69,
   "metadata": {},
   "outputs": [
    {
     "name": "stdout",
     "output_type": "stream",
     "text": [
      "out tensor([[[ 0.0854,  0.1536, -0.0107]]], grad_fn=<StackBackward0>)\n",
      "hidden (tensor([[[ 0.0854,  0.1536, -0.0107]]], grad_fn=<StackBackward0>), tensor([[[ 0.4252,  0.2695, -0.0568]]], grad_fn=<StackBackward0>))\n",
      "out tensor([[[0.0732, 0.0221, 0.0172]]], grad_fn=<StackBackward0>)\n",
      "hidden (tensor([[[0.0732, 0.0221, 0.0172]]], grad_fn=<StackBackward0>), tensor([[[0.1604, 0.0537, 0.0533]]], grad_fn=<StackBackward0>))\n",
      "out tensor([[[ 0.0471, -0.0478,  0.1431]]], grad_fn=<StackBackward0>)\n",
      "hidden (tensor([[[ 0.0471, -0.0478,  0.1431]]], grad_fn=<StackBackward0>), tensor([[[ 0.1081, -0.1159,  0.3744]]], grad_fn=<StackBackward0>))\n",
      "out tensor([[[-0.0314, -0.0941,  0.1164]]], grad_fn=<StackBackward0>)\n",
      "hidden (tensor([[[-0.0314, -0.0941,  0.1164]]], grad_fn=<StackBackward0>), tensor([[[-0.0529, -0.2210,  0.2903]]], grad_fn=<StackBackward0>))\n",
      "out tensor([[[-0.1885,  0.0450, -0.0304]]], grad_fn=<StackBackward0>)\n",
      "hidden (tensor([[[-0.1885,  0.0450, -0.0304]]], grad_fn=<StackBackward0>), tensor([[[-0.3415,  0.0789, -0.1005]]], grad_fn=<StackBackward0>))\n"
     ]
    }
   ],
   "source": [
    "# print(torch.randn(1,1,3))\n",
    "# print(torch.randn(1,1,2))\n",
    "# print(torch.randn(1,1))\n",
    "\n",
    "\n",
    "\n",
    "hidden = (torch.randn(1,1,3),torch.randn(1,1,3))\n",
    "\n",
    "# print(hidden)\n",
    "\n",
    "for i in inputs:\n",
    "    out, hidden = lstm(i.view(1,1, -1), hidden)\n",
    "    print(\"out\", out)\n",
    "    print(\"hidden\", hidden)\n",
    "\n",
    "\n"
   ]
  },
  {
   "cell_type": "code",
   "execution_count": null,
   "metadata": {},
   "outputs": [],
   "source": []
  },
  {
   "cell_type": "code",
   "execution_count": null,
   "metadata": {},
   "outputs": [],
   "source": []
  }
 ],
 "metadata": {
  "kernelspec": {
   "display_name": ".venv",
   "language": "python",
   "name": "python3"
  },
  "language_info": {
   "codemirror_mode": {
    "name": "ipython",
    "version": 3
   },
   "file_extension": ".py",
   "mimetype": "text/x-python",
   "name": "python",
   "nbconvert_exporter": "python",
   "pygments_lexer": "ipython3",
   "version": "3.11.6"
  }
 },
 "nbformat": 4,
 "nbformat_minor": 2
}
