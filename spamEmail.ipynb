{
 "cells": [
  {
   "cell_type": "code",
   "execution_count": 24,
   "metadata": {},
   "outputs": [],
   "source": [
    "import kagglehub\n",
    "import pandas as pd\n",
    "import matplotlib.pyplot as plt\n",
    "import warnings\n",
    "import os\n",
    "\n",
    "import torch.nn as nn\n",
    "import torch\n",
    "from torch.utils.data import Dataset, DataLoader\n",
    "import torchtext\n",
    "from torchtext.data.utils import get_tokenizer\n",
    "from sklearn.feature_extraction.text import TfidfVectorizer\n",
    "from sklearn.model_selection import train_test_split, cross_val_score\n",
    "from sklearn.naive_bayes import MultinomialNB\n",
    "from sklearn.metrics import (\n",
    "    accuracy_score, precision_score, recall_score,\n",
    "    f1_score, classification_report, confusion_matrix, ConfusionMatrixDisplay\n",
    ")\n",
    "from torchtext.vocab import Vocab\n",
    "from collections import Counter\n",
    "\n",
    "from kagglehub import KaggleDatasetAdapter\n",
    "    \n",
    "warnings.filterwarnings(\"ignore\")\n",
    "\n",
    "# # !pip3 install torch==2.3.0 torchvision torchaudio --index-url https://download.pytorch.org/whl/cu118\n",
    "# # # !pip uninstall torch torchvision torchaudio -y\n"
   ]
  },
  {
   "cell_type": "code",
   "execution_count": 26,
   "metadata": {},
   "outputs": [
    {
     "name": "stdout",
     "output_type": "stream",
     "text": [
      "2.3.0\n"
     ]
    }
   ],
   "source": [
    "path = kagglehub.dataset_download(\"venky73/spam-mails-dataset\")\n",
    "\n",
    "print(torch.__version__)"
   ]
  },
  {
   "cell_type": "code",
   "execution_count": 27,
   "metadata": {},
   "outputs": [
    {
     "name": "stdout",
     "output_type": "stream",
     "text": [
      "Path to dataset files: /Users/aman/.cache/kagglehub/datasets/venky73/spam-mails-dataset/versions/1\n"
     ]
    }
   ],
   "source": [
    "print(\"Path to dataset files:\", path)"
   ]
  },
  {
   "cell_type": "code",
   "execution_count": 29,
   "metadata": {},
   "outputs": [
    {
     "name": "stdout",
     "output_type": "stream",
     "text": [
      "GPU not available, CPU used\n"
     ]
    }
   ],
   "source": [
    "\n",
    "is_cuda = torch.cuda.is_available()\n",
    "\n",
    "if is_cuda:\n",
    "    device = torch.device(\"cuda\")\n",
    "    print(\"GPU is available\")\n",
    "else:\n",
    "    device = torch.device(\"cpu\")\n",
    "    print(\"GPU not available, CPU used\")\n",
    "\n",
    "device = torch.device(\"mps\")\n",
    "    \n",
    "    \n"
   ]
  },
  {
   "cell_type": "code",
   "execution_count": 8,
   "metadata": {},
   "outputs": [
    {
     "name": "stdout",
     "output_type": "stream",
     "text": [
      "/Users/aman/.cache/kagglehub/datasets/venky73/spam-mails-dataset/versions/1/spam_ham_dataset.csv\n"
     ]
    }
   ],
   "source": [
    "csv = os.path.join(path, \"spam_ham_dataset.csv\")\n",
    "print(csv)"
   ]
  },
  {
   "cell_type": "code",
   "execution_count": 11,
   "metadata": {},
   "outputs": [],
   "source": [
    "# if os.path.exists(csv):\n",
    "#     print(\"File Exists\")\n",
    "# else:\n",
    "#     print(\"File doesn't exist\")\n"
   ]
  },
  {
   "cell_type": "code",
   "execution_count": 12,
   "metadata": {},
   "outputs": [
    {
     "data": {
      "text/html": [
       "<div>\n",
       "<style scoped>\n",
       "    .dataframe tbody tr th:only-of-type {\n",
       "        vertical-align: middle;\n",
       "    }\n",
       "\n",
       "    .dataframe tbody tr th {\n",
       "        vertical-align: top;\n",
       "    }\n",
       "\n",
       "    .dataframe thead th {\n",
       "        text-align: right;\n",
       "    }\n",
       "</style>\n",
       "<table border=\"1\" class=\"dataframe\">\n",
       "  <thead>\n",
       "    <tr style=\"text-align: right;\">\n",
       "      <th></th>\n",
       "      <th>Unnamed: 0</th>\n",
       "      <th>label</th>\n",
       "      <th>text</th>\n",
       "      <th>label_num</th>\n",
       "    </tr>\n",
       "  </thead>\n",
       "  <tbody>\n",
       "    <tr>\n",
       "      <th>1630</th>\n",
       "      <td>4541</td>\n",
       "      <td>spam</td>\n",
       "      <td>Subject: hey !\\r\\nhi ! i am looking for new fr...</td>\n",
       "      <td>1</td>\n",
       "    </tr>\n",
       "    <tr>\n",
       "      <th>1034</th>\n",
       "      <td>3698</td>\n",
       "      <td>spam</td>\n",
       "      <td>Subject: weekend entertainment\\r\\nalpha male p...</td>\n",
       "      <td>1</td>\n",
       "    </tr>\n",
       "    <tr>\n",
       "      <th>173</th>\n",
       "      <td>754</td>\n",
       "      <td>ham</td>\n",
       "      <td>Subject: well head\\r\\nshoreline wants to incre...</td>\n",
       "      <td>0</td>\n",
       "    </tr>\n",
       "    <tr>\n",
       "      <th>3853</th>\n",
       "      <td>2734</td>\n",
       "      <td>ham</td>\n",
       "      <td>Subject: hpl nom for march 16 , 2001\\r\\n( see ...</td>\n",
       "      <td>0</td>\n",
       "    </tr>\n",
       "    <tr>\n",
       "      <th>2899</th>\n",
       "      <td>2311</td>\n",
       "      <td>ham</td>\n",
       "      <td>Subject: hpl noms - dec . 30 - 31 , 2000 and j...</td>\n",
       "      <td>0</td>\n",
       "    </tr>\n",
       "    <tr>\n",
       "      <th>...</th>\n",
       "      <td>...</td>\n",
       "      <td>...</td>\n",
       "      <td>...</td>\n",
       "      <td>...</td>\n",
       "    </tr>\n",
       "    <tr>\n",
       "      <th>2969</th>\n",
       "      <td>4516</td>\n",
       "      <td>spam</td>\n",
       "      <td>Subject: paliourg , enl 4 rge your penls now !...</td>\n",
       "      <td>1</td>\n",
       "    </tr>\n",
       "    <tr>\n",
       "      <th>945</th>\n",
       "      <td>1259</td>\n",
       "      <td>ham</td>\n",
       "      <td>Subject: eastrans - lst of month nomination - ...</td>\n",
       "      <td>0</td>\n",
       "    </tr>\n",
       "    <tr>\n",
       "      <th>2844</th>\n",
       "      <td>5077</td>\n",
       "      <td>spam</td>\n",
       "      <td>Subject: ? ? ? ? 13 ? ? ? ? ? ? ? * ? * ? * ?\\...</td>\n",
       "      <td>1</td>\n",
       "    </tr>\n",
       "    <tr>\n",
       "      <th>3773</th>\n",
       "      <td>3482</td>\n",
       "      <td>ham</td>\n",
       "      <td>Subject: fw : candle lighting\\r\\n- - - - - ori...</td>\n",
       "      <td>0</td>\n",
       "    </tr>\n",
       "    <tr>\n",
       "      <th>156</th>\n",
       "      <td>3030</td>\n",
       "      <td>ham</td>\n",
       "      <td>Subject: please process immediately to avoid l...</td>\n",
       "      <td>0</td>\n",
       "    </tr>\n",
       "  </tbody>\n",
       "</table>\n",
       "<p>100 rows × 4 columns</p>\n",
       "</div>"
      ],
      "text/plain": [
       "      Unnamed: 0 label                                               text  \\\n",
       "1630        4541  spam  Subject: hey !\\r\\nhi ! i am looking for new fr...   \n",
       "1034        3698  spam  Subject: weekend entertainment\\r\\nalpha male p...   \n",
       "173          754   ham  Subject: well head\\r\\nshoreline wants to incre...   \n",
       "3853        2734   ham  Subject: hpl nom for march 16 , 2001\\r\\n( see ...   \n",
       "2899        2311   ham  Subject: hpl noms - dec . 30 - 31 , 2000 and j...   \n",
       "...          ...   ...                                                ...   \n",
       "2969        4516  spam  Subject: paliourg , enl 4 rge your penls now !...   \n",
       "945         1259   ham  Subject: eastrans - lst of month nomination - ...   \n",
       "2844        5077  spam  Subject: ? ? ? ? 13 ? ? ? ? ? ? ? * ? * ? * ?\\...   \n",
       "3773        3482   ham  Subject: fw : candle lighting\\r\\n- - - - - ori...   \n",
       "156         3030   ham  Subject: please process immediately to avoid l...   \n",
       "\n",
       "      label_num  \n",
       "1630          1  \n",
       "1034          1  \n",
       "173           0  \n",
       "3853          0  \n",
       "2899          0  \n",
       "...         ...  \n",
       "2969          1  \n",
       "945           0  \n",
       "2844          1  \n",
       "3773          0  \n",
       "156           0  \n",
       "\n",
       "[100 rows x 4 columns]"
      ]
     },
     "execution_count": 12,
     "metadata": {},
     "output_type": "execute_result"
    }
   ],
   "source": [
    "data = pd.read_csv(csv)\n",
    "data.sample(n = 100)"
   ]
  },
  {
   "cell_type": "code",
   "execution_count": 13,
   "metadata": {},
   "outputs": [
    {
     "name": "stdout",
     "output_type": "stream",
     "text": [
      "<class 'pandas.core.frame.DataFrame'>\n",
      "RangeIndex: 5171 entries, 0 to 5170\n",
      "Data columns (total 4 columns):\n",
      " #   Column      Non-Null Count  Dtype \n",
      "---  ------      --------------  ----- \n",
      " 0   Unnamed: 0  5171 non-null   int64 \n",
      " 1   label       5171 non-null   object\n",
      " 2   text        5171 non-null   object\n",
      " 3   label_num   5171 non-null   int64 \n",
      "dtypes: int64(2), object(2)\n",
      "memory usage: 161.7+ KB\n",
      "------------------------\n"
     ]
    },
    {
     "data": {
      "text/html": [
       "<div>\n",
       "<style scoped>\n",
       "    .dataframe tbody tr th:only-of-type {\n",
       "        vertical-align: middle;\n",
       "    }\n",
       "\n",
       "    .dataframe tbody tr th {\n",
       "        vertical-align: top;\n",
       "    }\n",
       "\n",
       "    .dataframe thead th {\n",
       "        text-align: right;\n",
       "    }\n",
       "</style>\n",
       "<table border=\"1\" class=\"dataframe\">\n",
       "  <thead>\n",
       "    <tr style=\"text-align: right;\">\n",
       "      <th></th>\n",
       "      <th>text</th>\n",
       "      <th>label_num</th>\n",
       "    </tr>\n",
       "  </thead>\n",
       "  <tbody>\n",
       "    <tr>\n",
       "      <th>0</th>\n",
       "      <td>Subject: enron methanol ; meter # : 988291\\r\\n...</td>\n",
       "      <td>0</td>\n",
       "    </tr>\n",
       "    <tr>\n",
       "      <th>1</th>\n",
       "      <td>Subject: hpl nom for january 9 , 2001\\r\\n( see...</td>\n",
       "      <td>0</td>\n",
       "    </tr>\n",
       "    <tr>\n",
       "      <th>2</th>\n",
       "      <td>Subject: neon retreat\\r\\nho ho ho , we ' re ar...</td>\n",
       "      <td>0</td>\n",
       "    </tr>\n",
       "    <tr>\n",
       "      <th>3</th>\n",
       "      <td>Subject: photoshop , windows , office . cheap ...</td>\n",
       "      <td>1</td>\n",
       "    </tr>\n",
       "    <tr>\n",
       "      <th>4</th>\n",
       "      <td>Subject: re : indian springs\\r\\nthis deal is t...</td>\n",
       "      <td>0</td>\n",
       "    </tr>\n",
       "  </tbody>\n",
       "</table>\n",
       "</div>"
      ],
      "text/plain": [
       "                                                text  label_num\n",
       "0  Subject: enron methanol ; meter # : 988291\\r\\n...          0\n",
       "1  Subject: hpl nom for january 9 , 2001\\r\\n( see...          0\n",
       "2  Subject: neon retreat\\r\\nho ho ho , we ' re ar...          0\n",
       "3  Subject: photoshop , windows , office . cheap ...          1\n",
       "4  Subject: re : indian springs\\r\\nthis deal is t...          0"
      ]
     },
     "execution_count": 13,
     "metadata": {},
     "output_type": "execute_result"
    }
   ],
   "source": [
    "data.info()\n",
    "\n",
    "\n",
    "print(\"------------------------\")\n",
    "\n",
    "only_text = data[[\"text\",\"label_num\"]]\n",
    "\n",
    "only_text.head()"
   ]
  },
  {
   "cell_type": "code",
   "execution_count": 14,
   "metadata": {},
   "outputs": [
    {
     "data": {
      "text/html": [
       "<div>\n",
       "<style scoped>\n",
       "    .dataframe tbody tr th:only-of-type {\n",
       "        vertical-align: middle;\n",
       "    }\n",
       "\n",
       "    .dataframe tbody tr th {\n",
       "        vertical-align: top;\n",
       "    }\n",
       "\n",
       "    .dataframe thead th {\n",
       "        text-align: right;\n",
       "    }\n",
       "</style>\n",
       "<table border=\"1\" class=\"dataframe\">\n",
       "  <thead>\n",
       "    <tr style=\"text-align: right;\">\n",
       "      <th></th>\n",
       "      <th>Unnamed: 0</th>\n",
       "      <th>label</th>\n",
       "      <th>text</th>\n",
       "      <th>label_num</th>\n",
       "    </tr>\n",
       "  </thead>\n",
       "  <tbody>\n",
       "    <tr>\n",
       "      <th>0</th>\n",
       "      <td>605</td>\n",
       "      <td>ham</td>\n",
       "      <td>Subject: enron methanol ; meter # : 988291\\r\\n...</td>\n",
       "      <td>0</td>\n",
       "    </tr>\n",
       "    <tr>\n",
       "      <th>1</th>\n",
       "      <td>2349</td>\n",
       "      <td>ham</td>\n",
       "      <td>Subject: hpl nom for january 9 , 2001\\r\\n( see...</td>\n",
       "      <td>0</td>\n",
       "    </tr>\n",
       "    <tr>\n",
       "      <th>2</th>\n",
       "      <td>3624</td>\n",
       "      <td>ham</td>\n",
       "      <td>Subject: neon retreat\\r\\nho ho ho , we ' re ar...</td>\n",
       "      <td>0</td>\n",
       "    </tr>\n",
       "    <tr>\n",
       "      <th>3</th>\n",
       "      <td>4685</td>\n",
       "      <td>spam</td>\n",
       "      <td>Subject: photoshop , windows , office . cheap ...</td>\n",
       "      <td>1</td>\n",
       "    </tr>\n",
       "    <tr>\n",
       "      <th>4</th>\n",
       "      <td>2030</td>\n",
       "      <td>ham</td>\n",
       "      <td>Subject: re : indian springs\\r\\nthis deal is t...</td>\n",
       "      <td>0</td>\n",
       "    </tr>\n",
       "  </tbody>\n",
       "</table>\n",
       "</div>"
      ],
      "text/plain": [
       "   Unnamed: 0 label                                               text  \\\n",
       "0         605   ham  Subject: enron methanol ; meter # : 988291\\r\\n...   \n",
       "1        2349   ham  Subject: hpl nom for january 9 , 2001\\r\\n( see...   \n",
       "2        3624   ham  Subject: neon retreat\\r\\nho ho ho , we ' re ar...   \n",
       "3        4685  spam  Subject: photoshop , windows , office . cheap ...   \n",
       "4        2030   ham  Subject: re : indian springs\\r\\nthis deal is t...   \n",
       "\n",
       "   label_num  \n",
       "0          0  \n",
       "1          0  \n",
       "2          0  \n",
       "3          1  \n",
       "4          0  "
      ]
     },
     "execution_count": 14,
     "metadata": {},
     "output_type": "execute_result"
    }
   ],
   "source": [
    "data.head()"
   ]
  },
  {
   "cell_type": "code",
   "execution_count": 15,
   "metadata": {},
   "outputs": [],
   "source": [
    "text_length = len(only_text) \n"
   ]
  },
  {
   "cell_type": "code",
   "execution_count": 16,
   "metadata": {},
   "outputs": [
    {
     "name": "stdout",
     "output_type": "stream",
     "text": [
      "tensor([11, 21, 20, 37, 19,  0, 13, 39, 38, 36, 24, 18, 17, 41, 26, 22, 30, 12,\n",
      "         9, 32,  3,  8, 28, 27, 29, 35,  7, 40, 31, 42, 38, 34,  7,  1, 41,  4,\n",
      "        25, 15, 16,  6, 37,  5, 19, 23,  2, 14, 10, 33])\n",
      "0\n"
     ]
    },
    {
     "data": {
      "text/html": [
       "<div>\n",
       "<style scoped>\n",
       "    .dataframe tbody tr th:only-of-type {\n",
       "        vertical-align: middle;\n",
       "    }\n",
       "\n",
       "    .dataframe tbody tr th {\n",
       "        vertical-align: top;\n",
       "    }\n",
       "\n",
       "    .dataframe thead th {\n",
       "        text-align: right;\n",
       "    }\n",
       "</style>\n",
       "<table border=\"1\" class=\"dataframe\">\n",
       "  <thead>\n",
       "    <tr style=\"text-align: right;\">\n",
       "      <th></th>\n",
       "      <th>Unnamed: 0</th>\n",
       "      <th>label</th>\n",
       "      <th>text</th>\n",
       "      <th>label_num</th>\n",
       "      <th>processed</th>\n",
       "    </tr>\n",
       "  </thead>\n",
       "  <tbody>\n",
       "    <tr>\n",
       "      <th>0</th>\n",
       "      <td>605</td>\n",
       "      <td>ham</td>\n",
       "      <td>Subject: enron methanol ; meter # : 988291\\r\\n...</td>\n",
       "      <td>0</td>\n",
       "      <td>[tensor(11), tensor(21), tensor(20), tensor(37...</td>\n",
       "    </tr>\n",
       "    <tr>\n",
       "      <th>1</th>\n",
       "      <td>2349</td>\n",
       "      <td>ham</td>\n",
       "      <td>Subject: hpl nom for january 9 , 2001\\r\\n( see...</td>\n",
       "      <td>0</td>\n",
       "      <td>[tensor(3), tensor(6), tensor(2), tensor(5), t...</td>\n",
       "    </tr>\n",
       "    <tr>\n",
       "      <th>2</th>\n",
       "      <td>3624</td>\n",
       "      <td>ham</td>\n",
       "      <td>Subject: neon retreat\\r\\nho ho ho , we ' re ar...</td>\n",
       "      <td>0</td>\n",
       "      <td>[tensor(119), tensor(151), tensor(82), tensor(...</td>\n",
       "    </tr>\n",
       "    <tr>\n",
       "      <th>3</th>\n",
       "      <td>4685</td>\n",
       "      <td>spam</td>\n",
       "      <td>Subject: photoshop , windows , office . cheap ...</td>\n",
       "      <td>1</td>\n",
       "      <td>[tensor(28), tensor(42), tensor(25), tensor(9)...</td>\n",
       "    </tr>\n",
       "    <tr>\n",
       "      <th>4</th>\n",
       "      <td>2030</td>\n",
       "      <td>ham</td>\n",
       "      <td>Subject: re : indian springs\\r\\nthis deal is t...</td>\n",
       "      <td>0</td>\n",
       "      <td>[tensor(29), tensor(17), tensor(33), tensor(39...</td>\n",
       "    </tr>\n",
       "  </tbody>\n",
       "</table>\n",
       "</div>"
      ],
      "text/plain": [
       "   Unnamed: 0 label                                               text  \\\n",
       "0         605   ham  Subject: enron methanol ; meter # : 988291\\r\\n...   \n",
       "1        2349   ham  Subject: hpl nom for january 9 , 2001\\r\\n( see...   \n",
       "2        3624   ham  Subject: neon retreat\\r\\nho ho ho , we ' re ar...   \n",
       "3        4685  spam  Subject: photoshop , windows , office . cheap ...   \n",
       "4        2030   ham  Subject: re : indian springs\\r\\nthis deal is t...   \n",
       "\n",
       "   label_num                                          processed  \n",
       "0          0  [tensor(11), tensor(21), tensor(20), tensor(37...  \n",
       "1          0  [tensor(3), tensor(6), tensor(2), tensor(5), t...  \n",
       "2          0  [tensor(119), tensor(151), tensor(82), tensor(...  \n",
       "3          1  [tensor(28), tensor(42), tensor(25), tensor(9)...  \n",
       "4          0  [tensor(29), tensor(17), tensor(33), tensor(39...  "
      ]
     },
     "execution_count": 16,
     "metadata": {},
     "output_type": "execute_result"
    }
   ],
   "source": [
    "from sklearn.model_selection import train_test_split\n",
    "import re\n",
    "\n",
    "import torch\n",
    "\n",
    "# Sample string\n",
    "# text = \"hello world hello\"\n",
    "\n",
    "# # Tokenization and vocabulary creation\n",
    "# tokens = text.split()\n",
    "# print(tokens)\n",
    "# vocab = {token: index for index, token in enumerate(sorted(set(tokens)))}\n",
    "# print(vocab)\n",
    "# # Numerical encoding\n",
    "# encoded_text = [vocab[token] for token in tokens]\n",
    "# print(encoded_text)\n",
    "\n",
    "# # Tensor creation\n",
    "# text_tensor = torch.tensor(encoded_text)\n",
    "\n",
    "# print(text_tensor)\n",
    "# # Expected output: tensor([0, 1, 0])\n",
    "\n",
    "def pre_processing(text):\n",
    "    # Convert to lowercase\n",
    "    text = text.lower()\n",
    "    # Remove HTML tags\n",
    "    text = re.sub(r'<.*?>', '', text)\n",
    "    # Remove special characters and numbers\n",
    "    text = re.sub(r'[^a-zA-Z\\s]', '', text)\n",
    "    # Remove extra whitespace\n",
    "    text = re.sub(r'\\s+', ' ', text).strip()\n",
    "\n",
    "    text = text.replace('subject', '')\n",
    "    \n",
    "    tokenizer = get_tokenizer(\"basic_english\")\n",
    "    \n",
    "    tokens = tokenizer(text)\n",
    "    \n",
    "    \n",
    "    vocab = {token: index for index, token in enumerate(sorted(set(tokens)))}\n",
    "    \n",
    "    encoded_text = [vocab[token] for token in tokens]\n",
    "    \n",
    "    text_tensor = torch.tensor(encoded_text)\n",
    "\n",
    "    \n",
    "    # # Numerical encoding\n",
    "    # encoded_text = [vocab[token] for token in tokens]\n",
    "      \n",
    "    return text_tensor\n",
    "  \n",
    "\n",
    "def build_vocab(text):\n",
    "  counter.update(text)\n",
    "\n",
    "counter = Counter()\n",
    "\n",
    "print(pre_processing(\"Subject: enron methanol ; meter # : 988291\\r\\nthis is a follow up to the note i gave you on monday , 4 / 3 / 00 { preliminary\\r\\nflow data provided by daren } .\\r\\nplease override pop ' s daily volume { presently zero } to reflect daily\\r\\nactivity you can obtain from gas control .\\r\\nthis change is needed asap for economics purposes .\"))\n",
    "\n",
    "data[\"processed\"] = data[\"text\"].apply(pre_processing)\n",
    "\n",
    "data[\"processed\"].apply(build_vocab)\n",
    "\n",
    "min_freq = 3\n",
    "filtered_counter = Counter({word: count for word, count in counter.items() if count >= min_freq})\n",
    "vocab = counter\n",
    "\n",
    "\n",
    "print(len(filtered_counter))\n",
    "\n",
    "data.head()"
   ]
  },
  {
   "cell_type": "code",
   "execution_count": 17,
   "metadata": {},
   "outputs": [
    {
     "name": "stdout",
     "output_type": "stream",
     "text": [
      "4136\n",
      "1035\n"
     ]
    },
    {
     "data": {
      "text/html": [
       "<div>\n",
       "<style scoped>\n",
       "    .dataframe tbody tr th:only-of-type {\n",
       "        vertical-align: middle;\n",
       "    }\n",
       "\n",
       "    .dataframe tbody tr th {\n",
       "        vertical-align: top;\n",
       "    }\n",
       "\n",
       "    .dataframe thead th {\n",
       "        text-align: right;\n",
       "    }\n",
       "</style>\n",
       "<table border=\"1\" class=\"dataframe\">\n",
       "  <thead>\n",
       "    <tr style=\"text-align: right;\">\n",
       "      <th></th>\n",
       "      <th>processed</th>\n",
       "      <th>label_num</th>\n",
       "    </tr>\n",
       "  </thead>\n",
       "  <tbody>\n",
       "    <tr>\n",
       "      <th>0</th>\n",
       "      <td>[tensor(11), tensor(21), tensor(20), tensor(37...</td>\n",
       "      <td>0</td>\n",
       "    </tr>\n",
       "    <tr>\n",
       "      <th>1</th>\n",
       "      <td>[tensor(3), tensor(6), tensor(2), tensor(5), t...</td>\n",
       "      <td>0</td>\n",
       "    </tr>\n",
       "    <tr>\n",
       "      <th>2</th>\n",
       "      <td>[tensor(119), tensor(151), tensor(82), tensor(...</td>\n",
       "      <td>0</td>\n",
       "    </tr>\n",
       "    <tr>\n",
       "      <th>3</th>\n",
       "      <td>[tensor(28), tensor(42), tensor(25), tensor(9)...</td>\n",
       "      <td>1</td>\n",
       "    </tr>\n",
       "    <tr>\n",
       "      <th>4</th>\n",
       "      <td>[tensor(29), tensor(17), tensor(33), tensor(39...</td>\n",
       "      <td>0</td>\n",
       "    </tr>\n",
       "  </tbody>\n",
       "</table>\n",
       "</div>"
      ],
      "text/plain": [
       "                                           processed  label_num\n",
       "0  [tensor(11), tensor(21), tensor(20), tensor(37...          0\n",
       "1  [tensor(3), tensor(6), tensor(2), tensor(5), t...          0\n",
       "2  [tensor(119), tensor(151), tensor(82), tensor(...          0\n",
       "3  [tensor(28), tensor(42), tensor(25), tensor(9)...          1\n",
       "4  [tensor(29), tensor(17), tensor(33), tensor(39...          0"
      ]
     },
     "execution_count": 17,
     "metadata": {},
     "output_type": "execute_result"
    }
   ],
   "source": [
    "set_train_Parameters = data.iloc[:int(0.8 * len(data))]\n",
    "\n",
    "set_test_Parameters = data.iloc[int((0.8) * len(data)):]\n",
    "\n",
    "training_data = set_train_Parameters[[\"processed\", \"label_num\"]]\n",
    "\n",
    "test_data = set_test_Parameters[[\"processed\", \"label_num\"]]\n",
    "\n",
    "training_data_no_proccess = set_train_Parameters[[\"text\", \"label_num\"]]\n",
    "\n",
    "test_data_no_proccess = set_test_Parameters[[\"text\", \"label_num\"]]\n",
    "\n",
    "\n",
    "print(len(training_data_no_proccess))\n",
    "print(len(test_data_no_proccess))\n",
    "training_data.head()\n"
   ]
  },
  {
   "cell_type": "code",
   "execution_count": 18,
   "metadata": {},
   "outputs": [
    {
     "data": {
      "text/plain": [
       "Text(0, 0.5, 'Count')"
      ]
     },
     "execution_count": 18,
     "metadata": {},
     "output_type": "execute_result"
    },
    {
     "data": {
      "image/png": "[encoded data removed]",
      "text/plain": [
       "<Figure size 640x480 with 1 Axes>"
      ]
     },
     "metadata": {},
     "output_type": "display_data"
    }
   ],
   "source": [
    "spam_count = training_data_no_proccess[\"label_num\"].value_counts()[1]\n",
    "non_spam_count = training_data_no_proccess[\"label_num\"].value_counts()[0]\n",
    "\n",
    "plt.bar([\"Spam\", \"Non-Spam\"], [spam_count, non_spam_count])\n",
    "plt.title(\"Spam vs Non-Spam\")\n",
    "plt.xlabel(\"Email Type\")\n",
    "plt.ylabel(\"Count\")"
   ]
  },
  {
   "cell_type": "code",
   "execution_count": 19,
   "metadata": {},
   "outputs": [
    {
     "name": "stdout",
     "output_type": "stream",
     "text": [
      "(tensor([11, 21, 20, 37, 19,  0, 13, 39, 38, 36, 24, 18, 17, 41, 26, 22, 30, 12,\n",
      "         9, 32,  3,  8, 28, 27, 29, 35,  7, 40, 31, 42, 38, 34,  7,  1, 41,  4,\n",
      "        25, 15, 16,  6, 37,  5, 19, 23,  2, 14, 10, 33]), tensor(0))\n"
     ]
    }
   ],
   "source": [
    "class SpamDataset(Dataset):\n",
    "    def __init__(self, df):\n",
    "        self.processed_texts = df[\"processed\"].tolist()  \n",
    "        self.labels = df[\"label_num\"].tolist()\n",
    "       \n",
    "    def __len__(self):\n",
    "        return len(self.processed_texts)\n",
    "\n",
    "    def __getitem__(self,idx):\n",
    "        # Convert tokens to indices\n",
    "        tokens = self.processed_texts[idx]\n",
    "        \n",
    "        label = self.labels[idx]\n",
    "        \n",
    "        return torch.tensor(tokens, dtype=torch.long), torch.tensor(label, dtype=torch.long)\n",
    "        \n",
    "\n",
    "\n",
    "train_datasets = SpamDataset(training_data)\n",
    "test_datasets = SpamDataset(test_data)\n",
    "\n",
    "print(train_datasets.__getitem__(0))\n",
    "\n"
   ]
  },
  {
   "cell_type": "code",
   "execution_count": 20,
   "metadata": {},
   "outputs": [],
   "source": [
    "class TextClassifier(nn.Module):\n",
    "    def __init__(self, vocab_size, embedding_dim, hidden_dim, num_classes):\n",
    "        super(TextClassifier, self).__init__()\n",
    "        self.embedding = nn.Embedding(vocab_size, embedding_dim)\n",
    "        self.rnn = nn.LSTM(embedding_dim, hidden_dim, batch_first=True)\n",
    "        self.fc = nn.Linear(hidden_dim, num_classes)\n",
    "        \n",
    "    def forward(self, x):\n",
    "        embedded = self.embedding(x)\n",
    "        output, _ = self.rnn(embedded)\n",
    "        last_hidden = output[:, -1, :]\n",
    "        logits = self.fc(last_hidden)\n",
    "        return logits\n",
    "\n",
    "def collate_fn(batch):\n",
    "    texts, labels = zip(*batch)\n",
    "    # Pad sequences to the same length\n",
    "    texts_padded = torch.nn.utils.rnn.pad_sequence(texts, batch_first=True, padding_value=0)\n",
    "    labels = torch.stack(labels)\n",
    "    return texts_padded, labels \n",
    "\n",
    "\n"
   ]
  },
  {
   "cell_type": "code",
   "execution_count": 22,
   "metadata": {},
   "outputs": [
    {
     "name": "stdout",
     "output_type": "stream",
     "text": [
      "761072\n",
      "TextClassifier(\n",
      "  (embedding): Embedding(761072, 128)\n",
      "  (rnn): LSTM(128, 64, batch_first=True)\n",
      "  (fc): Linear(in_features=64, out_features=2, bias=True)\n",
      ")\n",
      "False\n",
      "Epoch 1, Loss: 0.6256\n",
      "Epoch 2, Loss: 0.4684\n",
      "Epoch 3, Loss: 0.3473\n"
     ]
    }
   ],
   "source": [
    "learning_rate = 0.001\n",
    "num_epochs = 3\n",
    "batch_size = 32\n",
    "num_classes = 2\n",
    "VOCAB_SIZE = len(vocab)\n",
    "print(VOCAB_SIZE)\n",
    "EMBED_DIM = 128\n",
    "HIDDEN_DIM = 64\n",
    "\n",
    "model = TextClassifier(VOCAB_SIZE, EMBED_DIM, HIDDEN_DIM, num_classes)\n",
    "model.to(device)\n",
    "print(model)\n",
    "print(next(model.parameters()).is_cuda)\n",
    "\n",
    "\n",
    "train_dataloader = DataLoader(train_datasets, batch_size=32, shuffle=True, collate_fn=collate_fn)\n",
    "test_dataloader = DataLoader(test_datasets, batch_size=32, shuffle=False, collate_fn=collate_fn)\n",
    "\n",
    "criterion = nn.CrossEntropyLoss()\n",
    "optimizer = torch.optim.Adam(model.parameters(), lr=learning_rate)\n",
    "\n",
    "\n",
    "model.train()\n",
    "for epoch in range(num_epochs):\n",
    "    running_loss = 0.0\n",
    "    for text_batch, label_batch in train_dataloader:\n",
    "        optimizer.zero_grad()\n",
    "        text_batch = text_batch.to(device)\n",
    "        label_batch = label_batch.to(device)        \n",
    "        outputs = model(text_batch)\n",
    "        loss = criterion(outputs, label_batch)\n",
    "        loss.backward()\n",
    "        optimizer.step()\n",
    "        running_loss += loss.item()\n",
    "    print(f'Epoch {epoch+1}, Loss: {loss.item():.4f}')\n"
   ]
  },
  {
   "cell_type": "code",
   "execution_count": null,
   "metadata": {},
   "outputs": [
    {
     "ename": "NameError",
     "evalue": "name 'model' is not defined",
     "output_type": "error",
     "traceback": [
      "\u001b[1;31m---------------------------------------------------------------------------\u001b[0m",
      "\u001b[1;31mNameError\u001b[0m                                 Traceback (most recent call last)",
      "Cell \u001b[1;32mIn[12], line 1\u001b[0m\n\u001b[1;32m----> 1\u001b[0m \u001b[43mmodel\u001b[49m\u001b[38;5;241m.\u001b[39meval()\n\u001b[0;32m      2\u001b[0m \u001b[38;5;28mprint\u001b[39m(\u001b[38;5;28mnext\u001b[39m(model\u001b[38;5;241m.\u001b[39mparameters())\u001b[38;5;241m.\u001b[39mis_cuda)\n\u001b[0;32m      4\u001b[0m \u001b[38;5;28;01mdef\u001b[39;00m\u001b[38;5;250m \u001b[39m\u001b[38;5;21mtest\u001b[39m(model, test_dataloader):\n",
      "\u001b[1;31mNameError\u001b[0m: name 'model' is not defined"
     ]
    }
   ],
   "source": [
    "model.eval()\n",
    "print(next(model.parameters()).is_cuda)\n",
    "\n",
    "def test(model, test_dataloader):\n",
    "    model.eval()\n",
    "    test_loss = 0\n",
    "    correct = 0\n",
    "    with torch.no_grad():\n",
    "        for inputs, labels in test_dataloader:\n",
    "            inputs = inputs.to(device)\n",
    "            labels = labels.to(device)\n",
    "            outputs = model(inputs)\n",
    "            loss = criterion(outputs, labels)\n",
    "            test_loss += loss.item()\n",
    "            _, predicted = torch.max(outputs.data, 1)\n",
    "            correct += (predicted == labels).sum().item()\n",
    "    test_loss /= len(test_data)\n",
    "    accuracy = 100 * correct / len(test_dataloader.dataset)\n",
    "    return test_loss, accuracy\n",
    "\n",
    "test_loss, accuracy = test(model, test_dataloader)\n",
    "\n",
    "print(f'Test Loss: {test_loss:.4f}')\n",
    "print(f'Accuracy: {accuracy:.2f}%')"
   ]
  },
  {
   "cell_type": "code",
   "execution_count": 2,
   "metadata": {},
   "outputs": [
    {
     "name": "stdout",
     "output_type": "stream",
     "text": [
      "Warning: Looks like you're using an outdated `kagglehub` version (installed: 0.3.9), please consider upgrading to the latest version (0.3.10).\n",
      "Downloading from https://www.kaggle.com/api/v1/datasets/download/jackksoncsie/spam-email-dataset?dataset_version_number=1...\n"
     ]
    },
    {
     "name": "stderr",
     "output_type": "stream",
     "text": [
      "100%|██████████| 2.86M/2.86M [00:00<00:00, 11.9MB/s]"
     ]
    },
    {
     "name": "stdout",
     "output_type": "stream",
     "text": [
      "Extracting files...\n",
      "Path to dataset files: C:\\Users\\amann\\.cache\\kagglehub\\datasets\\jackksoncsie\\spam-email-dataset\\versions\\1\n"
     ]
    },
    {
     "name": "stderr",
     "output_type": "stream",
     "text": [
      "\n"
     ]
    }
   ],
   "source": [
    "\n",
    "# Download latest version\n",
    "path = kagglehub.dataset_download(\"jackksoncsie/spam-email-dataset\")\n",
    "\n",
    "print(\"Path to dataset files:\", path)"
   ]
  },
  {
   "cell_type": "code",
   "execution_count": 8,
   "metadata": {},
   "outputs": [
    {
     "name": "stdout",
     "output_type": "stream",
     "text": [
      "C:\\Users\\amann\\.cache\\kagglehub\\datasets\\jackksoncsie\\spam-email-dataset\\versions\\1\\emails.csv\n"
     ]
    }
   ],
   "source": [
    "csv = os.path.join(path, \"emails.csv\")\n",
    "print(csv)"
   ]
  },
  {
   "cell_type": "code",
   "execution_count": 9,
   "metadata": {},
   "outputs": [
    {
     "name": "stdout",
     "output_type": "stream",
     "text": [
      "File Exists\n"
     ]
    }
   ],
   "source": [
    "if os.path.exists(csv):\n",
    "    print(\"File Exists\")\n",
    "else:\n",
    "    print(\"File doesn't exist\")"
   ]
  },
  {
   "cell_type": "code",
   "execution_count": null,
   "metadata": {},
   "outputs": [
    {
     "name": "stdout",
     "output_type": "stream",
     "text": [
      "<class 'pandas.core.frame.DataFrame'>\n",
      "RangeIndex: 5728 entries, 0 to 5727\n",
      "Data columns (total 2 columns):\n",
      " #   Column  Non-Null Count  Dtype \n",
      "---  ------  --------------  ----- \n",
      " 0   text    5728 non-null   object\n",
      " 1   spam    5728 non-null   int64 \n",
      "dtypes: int64(1), object(1)\n",
      "memory usage: 89.6+ KB\n"
     ]
    }
   ],
   "source": [
    "new_data = pd.read_csv(csv)\n",
    "new_data.sample(n = 100)\n",
    "\n",
    "new_data.info()"
   ]
  },
  {
   "cell_type": "code",
   "execution_count": null,
   "metadata": {},
   "outputs": [],
   "source": [
    "new_test_dataLoader = DataLoader(new_data, batch_size=32, shuffle=False, collate_fn=collate_fn)\n",
    "\n",
    "test(model, new_test_dataLoader)\n"
   ]
  }
 ],
 "metadata": {
  "kernelspec": {
   "display_name": ".venv",
   "language": "python",
   "name": "python3"
  },
  "language_info": {
   "codemirror_mode": {
    "name": "ipython",
    "version": 3
   },
   "file_extension": ".py",
   "mimetype": "text/x-python",
   "name": "python",
   "nbconvert_exporter": "python",
   "pygments_lexer": "ipython3",
   "version": "3.11.6"
  }
 },
 "nbformat": 4,
 "nbformat_minor": 2
}
