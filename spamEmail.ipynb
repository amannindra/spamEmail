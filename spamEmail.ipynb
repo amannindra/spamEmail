{
 "cells": [
  {
   "cell_type": "code",
   "execution_count": 1,
   "metadata": {},
   "outputs": [
    {
     "name": "stderr",
     "output_type": "stream",
     "text": [
      "/Users/aman/Stuff/Programming/spamEmail/.venv/lib/python3.11/site-packages/tqdm/auto.py:21: TqdmWarning: IProgress not found. Please update jupyter and ipywidgets. See https://ipywidgets.readthedocs.io/en/stable/user_install.html\n",
      "  from .autonotebook import tqdm as notebook_tqdm\n",
      "/Users/aman/Stuff/Programming/spamEmail/.venv/lib/python3.11/site-packages/torchtext/data/__init__.py:4: UserWarning: \n",
      "/!\\ IMPORTANT WARNING ABOUT TORCHTEXT STATUS /!\\ \n",
      "Torchtext is deprecated and the last released version will be 0.18 (this one). You can silence this warning by calling the following at the beginnign of your scripts: `import torchtext; torchtext.disable_torchtext_deprecation_warning()`\n",
      "  warnings.warn(torchtext._TORCHTEXT_DEPRECATION_MSG)\n",
      "/Users/aman/Stuff/Programming/spamEmail/.venv/lib/python3.11/site-packages/torchtext/vocab/__init__.py:4: UserWarning: \n",
      "/!\\ IMPORTANT WARNING ABOUT TORCHTEXT STATUS /!\\ \n",
      "Torchtext is deprecated and the last released version will be 0.18 (this one). You can silence this warning by calling the following at the beginnign of your scripts: `import torchtext; torchtext.disable_torchtext_deprecation_warning()`\n",
      "  warnings.warn(torchtext._TORCHTEXT_DEPRECATION_MSG)\n",
      "/Users/aman/Stuff/Programming/spamEmail/.venv/lib/python3.11/site-packages/torchtext/utils.py:4: UserWarning: \n",
      "/!\\ IMPORTANT WARNING ABOUT TORCHTEXT STATUS /!\\ \n",
      "Torchtext is deprecated and the last released version will be 0.18 (this one). You can silence this warning by calling the following at the beginnign of your scripts: `import torchtext; torchtext.disable_torchtext_deprecation_warning()`\n",
      "  warnings.warn(torchtext._TORCHTEXT_DEPRECATION_MSG)\n"
     ]
    }
   ],
   "source": [
    "import kagglehub\n",
    "import pandas as pd\n",
    "import matplotlib.pyplot as plt\n",
    "import warnings\n",
    "import os\n",
    "\n",
    "import torch.nn as nn\n",
    "import torch\n",
    "from torch.utils.data import Dataset, DataLoader\n",
    "from torchtext.data.utils import get_tokenizer\n",
    "\n",
    "from torchtext.vocab import Vocab\n",
    "from collections import Counter\n",
    "\n",
    "from kagglehub import KaggleDatasetAdapter\n",
    "\n",
    "warnings.filterwarnings(\"ignore\")\n",
    "\n",
    "# # !pip3 install torch==2.3.0 torchvision torchaudio --index-url https://download.pytorch.org/whl/cu118\n",
    "# # # !pip uninstall torch torchvision torchaudio -y\n"
   ]
  },
  {
   "cell_type": "code",
   "execution_count": 2,
   "metadata": {},
   "outputs": [
    {
     "name": "stdout",
     "output_type": "stream",
     "text": [
      "2.3.0\n"
     ]
    }
   ],
   "source": [
    "path = kagglehub.dataset_download(\"venky73/spam-mails-dataset\")\n",
    "\n",
    "print(torch.__version__)"
   ]
  },
  {
   "cell_type": "code",
   "execution_count": 3,
   "metadata": {},
   "outputs": [
    {
     "name": "stdout",
     "output_type": "stream",
     "text": [
      "Path to dataset files: /Users/aman/.cache/kagglehub/datasets/venky73/spam-mails-dataset/versions/1\n"
     ]
    }
   ],
   "source": [
    "print(\"Path to dataset files:\", path)"
   ]
  },
  {
   "cell_type": "code",
   "execution_count": 4,
   "metadata": {},
   "outputs": [
    {
     "name": "stdout",
     "output_type": "stream",
     "text": [
      "GPU not available, CPU used\n"
     ]
    }
   ],
   "source": [
    "\n",
    "is_cuda = torch.cuda.is_available()\n",
    "\n",
    "if is_cuda:\n",
    "    device = torch.device(\"cuda\")\n",
    "    print(\"GPU is available\")\n",
    "else:\n",
    "    device = torch.device(\"cpu\")\n",
    "    print(\"GPU not available, CPU used\")\n",
    "\n",
    "device = torch.device(\"mps\")"
   ]
  },
  {
   "cell_type": "code",
   "execution_count": 5,
   "metadata": {},
   "outputs": [
    {
     "name": "stdout",
     "output_type": "stream",
     "text": [
      "/Users/aman/.cache/kagglehub/datasets/venky73/spam-mails-dataset/versions/1/spam_ham_dataset.csv\n"
     ]
    }
   ],
   "source": [
    "csv = os.path.join(path, \"spam_ham_dataset.csv\")\n",
    "print(csv)"
   ]
  },
  {
   "cell_type": "code",
   "execution_count": 6,
   "metadata": {},
   "outputs": [],
   "source": [
    "# if os.path.exists(csv):\n",
    "#     print(\"File Exists\")\n",
    "# else:\n",
    "#     print(\"File doesn't exist\")\n"
   ]
  },
  {
   "cell_type": "code",
   "execution_count": 7,
   "metadata": {},
   "outputs": [
    {
     "data": {
      "text/html": [
       "<div>\n",
       "<style scoped>\n",
       "    .dataframe tbody tr th:only-of-type {\n",
       "        vertical-align: middle;\n",
       "    }\n",
       "\n",
       "    .dataframe tbody tr th {\n",
       "        vertical-align: top;\n",
       "    }\n",
       "\n",
       "    .dataframe thead th {\n",
       "        text-align: right;\n",
       "    }\n",
       "</style>\n",
       "<table border=\"1\" class=\"dataframe\">\n",
       "  <thead>\n",
       "    <tr style=\"text-align: right;\">\n",
       "      <th></th>\n",
       "      <th>Unnamed: 0</th>\n",
       "      <th>label</th>\n",
       "      <th>text</th>\n",
       "      <th>label_num</th>\n",
       "    </tr>\n",
       "  </thead>\n",
       "  <tbody>\n",
       "    <tr>\n",
       "      <th>1597</th>\n",
       "      <td>1285</td>\n",
       "      <td>ham</td>\n",
       "      <td>Subject: re : new production - sitara deals ne...</td>\n",
       "      <td>0</td>\n",
       "    </tr>\n",
       "    <tr>\n",
       "      <th>1426</th>\n",
       "      <td>3572</td>\n",
       "      <td>ham</td>\n",
       "      <td>Subject: hplc - four square 5 / 01\\r\\ndarren :...</td>\n",
       "      <td>0</td>\n",
       "    </tr>\n",
       "    <tr>\n",
       "      <th>3221</th>\n",
       "      <td>2541</td>\n",
       "      <td>ham</td>\n",
       "      <td>Subject: re : opm hours survey - january , 200...</td>\n",
       "      <td>0</td>\n",
       "    </tr>\n",
       "    <tr>\n",
       "      <th>3212</th>\n",
       "      <td>1980</td>\n",
       "      <td>ham</td>\n",
       "      <td>Subject: sodbuster . . . what ' s up man\\r\\nhe...</td>\n",
       "      <td>0</td>\n",
       "    </tr>\n",
       "    <tr>\n",
       "      <th>2996</th>\n",
       "      <td>27</td>\n",
       "      <td>ham</td>\n",
       "      <td>Subject: re : evergreen deals\\r\\nno that is a ...</td>\n",
       "      <td>0</td>\n",
       "    </tr>\n",
       "    <tr>\n",
       "      <th>...</th>\n",
       "      <td>...</td>\n",
       "      <td>...</td>\n",
       "      <td>...</td>\n",
       "      <td>...</td>\n",
       "    </tr>\n",
       "    <tr>\n",
       "      <th>2434</th>\n",
       "      <td>1678</td>\n",
       "      <td>ham</td>\n",
       "      <td>Subject: revised october avails .\\r\\ni have be...</td>\n",
       "      <td>0</td>\n",
       "    </tr>\n",
       "    <tr>\n",
       "      <th>2076</th>\n",
       "      <td>116</td>\n",
       "      <td>ham</td>\n",
       "      <td>Subject: marketing services / scheduling\\r\\nda...</td>\n",
       "      <td>0</td>\n",
       "    </tr>\n",
       "    <tr>\n",
       "      <th>3595</th>\n",
       "      <td>1044</td>\n",
       "      <td>ham</td>\n",
       "      <td>Subject: july 2000 first of the month availabi...</td>\n",
       "      <td>0</td>\n",
       "    </tr>\n",
       "    <tr>\n",
       "      <th>3106</th>\n",
       "      <td>5070</td>\n",
       "      <td>spam</td>\n",
       "      <td>Subject: shower your lover ( s ) with a founta...</td>\n",
       "      <td>1</td>\n",
       "    </tr>\n",
       "    <tr>\n",
       "      <th>5089</th>\n",
       "      <td>4212</td>\n",
       "      <td>spam</td>\n",
       "      <td>Subject: \\r\\nthe permanent fix to penis growth...</td>\n",
       "      <td>1</td>\n",
       "    </tr>\n",
       "  </tbody>\n",
       "</table>\n",
       "<p>100 rows × 4 columns</p>\n",
       "</div>"
      ],
      "text/plain": [
       "      Unnamed: 0 label                                               text  \\\n",
       "1597        1285   ham  Subject: re : new production - sitara deals ne...   \n",
       "1426        3572   ham  Subject: hplc - four square 5 / 01\\r\\ndarren :...   \n",
       "3221        2541   ham  Subject: re : opm hours survey - january , 200...   \n",
       "3212        1980   ham  Subject: sodbuster . . . what ' s up man\\r\\nhe...   \n",
       "2996          27   ham  Subject: re : evergreen deals\\r\\nno that is a ...   \n",
       "...          ...   ...                                                ...   \n",
       "2434        1678   ham  Subject: revised october avails .\\r\\ni have be...   \n",
       "2076         116   ham  Subject: marketing services / scheduling\\r\\nda...   \n",
       "3595        1044   ham  Subject: july 2000 first of the month availabi...   \n",
       "3106        5070  spam  Subject: shower your lover ( s ) with a founta...   \n",
       "5089        4212  spam  Subject: \\r\\nthe permanent fix to penis growth...   \n",
       "\n",
       "      label_num  \n",
       "1597          0  \n",
       "1426          0  \n",
       "3221          0  \n",
       "3212          0  \n",
       "2996          0  \n",
       "...         ...  \n",
       "2434          0  \n",
       "2076          0  \n",
       "3595          0  \n",
       "3106          1  \n",
       "5089          1  \n",
       "\n",
       "[100 rows x 4 columns]"
      ]
     },
     "execution_count": 7,
     "metadata": {},
     "output_type": "execute_result"
    }
   ],
   "source": [
    "data = pd.read_csv(csv)\n",
    "data.sample(n = 100)"
   ]
  },
  {
   "cell_type": "code",
   "execution_count": 8,
   "metadata": {},
   "outputs": [
    {
     "name": "stdout",
     "output_type": "stream",
     "text": [
      "<class 'pandas.core.frame.DataFrame'>\n",
      "RangeIndex: 5171 entries, 0 to 5170\n",
      "Data columns (total 4 columns):\n",
      " #   Column      Non-Null Count  Dtype \n",
      "---  ------      --------------  ----- \n",
      " 0   Unnamed: 0  5171 non-null   int64 \n",
      " 1   label       5171 non-null   object\n",
      " 2   text        5171 non-null   object\n",
      " 3   label_num   5171 non-null   int64 \n",
      "dtypes: int64(2), object(2)\n",
      "memory usage: 161.7+ KB\n",
      "------------------------\n"
     ]
    },
    {
     "data": {
      "text/html": [
       "<div>\n",
       "<style scoped>\n",
       "    .dataframe tbody tr th:only-of-type {\n",
       "        vertical-align: middle;\n",
       "    }\n",
       "\n",
       "    .dataframe tbody tr th {\n",
       "        vertical-align: top;\n",
       "    }\n",
       "\n",
       "    .dataframe thead th {\n",
       "        text-align: right;\n",
       "    }\n",
       "</style>\n",
       "<table border=\"1\" class=\"dataframe\">\n",
       "  <thead>\n",
       "    <tr style=\"text-align: right;\">\n",
       "      <th></th>\n",
       "      <th>text</th>\n",
       "      <th>label_num</th>\n",
       "    </tr>\n",
       "  </thead>\n",
       "  <tbody>\n",
       "    <tr>\n",
       "      <th>0</th>\n",
       "      <td>Subject: enron methanol ; meter # : 988291\\r\\n...</td>\n",
       "      <td>0</td>\n",
       "    </tr>\n",
       "    <tr>\n",
       "      <th>1</th>\n",
       "      <td>Subject: hpl nom for january 9 , 2001\\r\\n( see...</td>\n",
       "      <td>0</td>\n",
       "    </tr>\n",
       "    <tr>\n",
       "      <th>2</th>\n",
       "      <td>Subject: neon retreat\\r\\nho ho ho , we ' re ar...</td>\n",
       "      <td>0</td>\n",
       "    </tr>\n",
       "    <tr>\n",
       "      <th>3</th>\n",
       "      <td>Subject: photoshop , windows , office . cheap ...</td>\n",
       "      <td>1</td>\n",
       "    </tr>\n",
       "    <tr>\n",
       "      <th>4</th>\n",
       "      <td>Subject: re : indian springs\\r\\nthis deal is t...</td>\n",
       "      <td>0</td>\n",
       "    </tr>\n",
       "  </tbody>\n",
       "</table>\n",
       "</div>"
      ],
      "text/plain": [
       "                                                text  label_num\n",
       "0  Subject: enron methanol ; meter # : 988291\\r\\n...          0\n",
       "1  Subject: hpl nom for january 9 , 2001\\r\\n( see...          0\n",
       "2  Subject: neon retreat\\r\\nho ho ho , we ' re ar...          0\n",
       "3  Subject: photoshop , windows , office . cheap ...          1\n",
       "4  Subject: re : indian springs\\r\\nthis deal is t...          0"
      ]
     },
     "execution_count": 8,
     "metadata": {},
     "output_type": "execute_result"
    }
   ],
   "source": [
    "data.info()\n",
    "\n",
    "\n",
    "print(\"------------------------\")\n",
    "\n",
    "only_text = data[[\"text\",\"label_num\"]]\n",
    "\n",
    "only_text.head()"
   ]
  },
  {
   "cell_type": "code",
   "execution_count": 9,
   "metadata": {},
   "outputs": [
    {
     "data": {
      "text/html": [
       "<div>\n",
       "<style scoped>\n",
       "    .dataframe tbody tr th:only-of-type {\n",
       "        vertical-align: middle;\n",
       "    }\n",
       "\n",
       "    .dataframe tbody tr th {\n",
       "        vertical-align: top;\n",
       "    }\n",
       "\n",
       "    .dataframe thead th {\n",
       "        text-align: right;\n",
       "    }\n",
       "</style>\n",
       "<table border=\"1\" class=\"dataframe\">\n",
       "  <thead>\n",
       "    <tr style=\"text-align: right;\">\n",
       "      <th></th>\n",
       "      <th>Unnamed: 0</th>\n",
       "      <th>label</th>\n",
       "      <th>text</th>\n",
       "      <th>label_num</th>\n",
       "    </tr>\n",
       "  </thead>\n",
       "  <tbody>\n",
       "    <tr>\n",
       "      <th>0</th>\n",
       "      <td>605</td>\n",
       "      <td>ham</td>\n",
       "      <td>Subject: enron methanol ; meter # : 988291\\r\\n...</td>\n",
       "      <td>0</td>\n",
       "    </tr>\n",
       "    <tr>\n",
       "      <th>1</th>\n",
       "      <td>2349</td>\n",
       "      <td>ham</td>\n",
       "      <td>Subject: hpl nom for january 9 , 2001\\r\\n( see...</td>\n",
       "      <td>0</td>\n",
       "    </tr>\n",
       "    <tr>\n",
       "      <th>2</th>\n",
       "      <td>3624</td>\n",
       "      <td>ham</td>\n",
       "      <td>Subject: neon retreat\\r\\nho ho ho , we ' re ar...</td>\n",
       "      <td>0</td>\n",
       "    </tr>\n",
       "    <tr>\n",
       "      <th>3</th>\n",
       "      <td>4685</td>\n",
       "      <td>spam</td>\n",
       "      <td>Subject: photoshop , windows , office . cheap ...</td>\n",
       "      <td>1</td>\n",
       "    </tr>\n",
       "    <tr>\n",
       "      <th>4</th>\n",
       "      <td>2030</td>\n",
       "      <td>ham</td>\n",
       "      <td>Subject: re : indian springs\\r\\nthis deal is t...</td>\n",
       "      <td>0</td>\n",
       "    </tr>\n",
       "  </tbody>\n",
       "</table>\n",
       "</div>"
      ],
      "text/plain": [
       "   Unnamed: 0 label                                               text  \\\n",
       "0         605   ham  Subject: enron methanol ; meter # : 988291\\r\\n...   \n",
       "1        2349   ham  Subject: hpl nom for january 9 , 2001\\r\\n( see...   \n",
       "2        3624   ham  Subject: neon retreat\\r\\nho ho ho , we ' re ar...   \n",
       "3        4685  spam  Subject: photoshop , windows , office . cheap ...   \n",
       "4        2030   ham  Subject: re : indian springs\\r\\nthis deal is t...   \n",
       "\n",
       "   label_num  \n",
       "0          0  \n",
       "1          0  \n",
       "2          0  \n",
       "3          1  \n",
       "4          0  "
      ]
     },
     "execution_count": 9,
     "metadata": {},
     "output_type": "execute_result"
    }
   ],
   "source": [
    "data.head()"
   ]
  },
  {
   "cell_type": "code",
   "execution_count": 10,
   "metadata": {},
   "outputs": [],
   "source": [
    "text_length = len(only_text) \n"
   ]
  },
  {
   "cell_type": "code",
   "execution_count": 11,
   "metadata": {},
   "outputs": [
    {
     "name": "stdout",
     "output_type": "stream",
     "text": [
      "tensor([11, 21, 20, 37, 19,  0, 13, 39, 38, 36, 24, 18, 17, 41, 26, 22, 30, 12,\n",
      "         9, 32,  3,  8, 28, 27, 29, 35,  7, 40, 31, 42, 38, 34,  7,  1, 41,  4,\n",
      "        25, 15, 16,  6, 37,  5, 19, 23,  2, 14, 10, 33])\n",
      "0\n"
     ]
    },
    {
     "data": {
      "text/html": [
       "<div>\n",
       "<style scoped>\n",
       "    .dataframe tbody tr th:only-of-type {\n",
       "        vertical-align: middle;\n",
       "    }\n",
       "\n",
       "    .dataframe tbody tr th {\n",
       "        vertical-align: top;\n",
       "    }\n",
       "\n",
       "    .dataframe thead th {\n",
       "        text-align: right;\n",
       "    }\n",
       "</style>\n",
       "<table border=\"1\" class=\"dataframe\">\n",
       "  <thead>\n",
       "    <tr style=\"text-align: right;\">\n",
       "      <th></th>\n",
       "      <th>Unnamed: 0</th>\n",
       "      <th>label</th>\n",
       "      <th>text</th>\n",
       "      <th>label_num</th>\n",
       "      <th>processed</th>\n",
       "    </tr>\n",
       "  </thead>\n",
       "  <tbody>\n",
       "    <tr>\n",
       "      <th>0</th>\n",
       "      <td>605</td>\n",
       "      <td>ham</td>\n",
       "      <td>Subject: enron methanol ; meter # : 988291\\r\\n...</td>\n",
       "      <td>0</td>\n",
       "      <td>[tensor(11), tensor(21), tensor(20), tensor(37...</td>\n",
       "    </tr>\n",
       "    <tr>\n",
       "      <th>1</th>\n",
       "      <td>2349</td>\n",
       "      <td>ham</td>\n",
       "      <td>Subject: hpl nom for january 9 , 2001\\r\\n( see...</td>\n",
       "      <td>0</td>\n",
       "      <td>[tensor(3), tensor(6), tensor(2), tensor(5), t...</td>\n",
       "    </tr>\n",
       "    <tr>\n",
       "      <th>2</th>\n",
       "      <td>3624</td>\n",
       "      <td>ham</td>\n",
       "      <td>Subject: neon retreat\\r\\nho ho ho , we ' re ar...</td>\n",
       "      <td>0</td>\n",
       "      <td>[tensor(119), tensor(151), tensor(82), tensor(...</td>\n",
       "    </tr>\n",
       "    <tr>\n",
       "      <th>3</th>\n",
       "      <td>4685</td>\n",
       "      <td>spam</td>\n",
       "      <td>Subject: photoshop , windows , office . cheap ...</td>\n",
       "      <td>1</td>\n",
       "      <td>[tensor(28), tensor(42), tensor(25), tensor(9)...</td>\n",
       "    </tr>\n",
       "    <tr>\n",
       "      <th>4</th>\n",
       "      <td>2030</td>\n",
       "      <td>ham</td>\n",
       "      <td>Subject: re : indian springs\\r\\nthis deal is t...</td>\n",
       "      <td>0</td>\n",
       "      <td>[tensor(29), tensor(17), tensor(33), tensor(39...</td>\n",
       "    </tr>\n",
       "  </tbody>\n",
       "</table>\n",
       "</div>"
      ],
      "text/plain": [
       "   Unnamed: 0 label                                               text  \\\n",
       "0         605   ham  Subject: enron methanol ; meter # : 988291\\r\\n...   \n",
       "1        2349   ham  Subject: hpl nom for january 9 , 2001\\r\\n( see...   \n",
       "2        3624   ham  Subject: neon retreat\\r\\nho ho ho , we ' re ar...   \n",
       "3        4685  spam  Subject: photoshop , windows , office . cheap ...   \n",
       "4        2030   ham  Subject: re : indian springs\\r\\nthis deal is t...   \n",
       "\n",
       "   label_num                                          processed  \n",
       "0          0  [tensor(11), tensor(21), tensor(20), tensor(37...  \n",
       "1          0  [tensor(3), tensor(6), tensor(2), tensor(5), t...  \n",
       "2          0  [tensor(119), tensor(151), tensor(82), tensor(...  \n",
       "3          1  [tensor(28), tensor(42), tensor(25), tensor(9)...  \n",
       "4          0  [tensor(29), tensor(17), tensor(33), tensor(39...  "
      ]
     },
     "execution_count": 11,
     "metadata": {},
     "output_type": "execute_result"
    }
   ],
   "source": [
    "from sklearn.model_selection import train_test_split\n",
    "import re\n",
    "\n",
    "import torch\n",
    "\n",
    "def pre_processing(text):\n",
    "    # Convert to lowercase\n",
    "    text = text.lower()\n",
    "    # Remove HTML tags\n",
    "    text = re.sub(r'<.*?>', '', text)\n",
    "    # Remove special characters and numbers\n",
    "    text = re.sub(r'[^a-zA-Z\\s]', '', text)\n",
    "    # Remove extra whitespace\n",
    "    text = re.sub(r'\\s+', ' ', text).strip()\n",
    "\n",
    "    text = text.replace('subject', '')\n",
    "    \n",
    "    tokenizer = get_tokenizer(\"basic_english\")\n",
    "    \n",
    "    tokens = tokenizer(text)\n",
    "    \n",
    "    \n",
    "    vocab = {token: index for index, token in enumerate(sorted(set(tokens)))}\n",
    "    \n",
    "    encoded_text = [vocab[token] for token in tokens]\n",
    "    \n",
    "    text_tensor = torch.tensor(encoded_text)\n",
    "\n",
    "    \n",
    "    # # Numerical encoding\n",
    "    # encoded_text = [vocab[token] for token in tokens]\n",
    "      \n",
    "    return text_tensor\n",
    "  \n",
    "\n",
    "def build_vocab(text):\n",
    "  counter.update(text)\n",
    "\n",
    "counter = Counter()\n",
    "\n",
    "print(pre_processing(\"Subject: enron methanol ; meter # : 988291\\r\\nthis is a follow up to the note i gave you on monday , 4 / 3 / 00 { preliminary\\r\\nflow data provided by daren } .\\r\\nplease override pop ' s daily volume { presently zero } to reflect daily\\r\\nactivity you can obtain from gas control .\\r\\nthis change is needed asap for economics purposes .\"))\n",
    "\n",
    "data[\"processed\"] = data[\"text\"].apply(pre_processing)\n",
    "\n",
    "data[\"processed\"].apply(build_vocab)\n",
    "\n",
    "min_freq = 3\n",
    "filtered_counter = Counter({word: count for word, count in counter.items() if count >= min_freq})\n",
    "vocab = counter\n",
    "\n",
    "\n",
    "print(len(filtered_counter))\n",
    "\n",
    "data.head()"
   ]
  },
  {
   "cell_type": "code",
   "execution_count": 12,
   "metadata": {},
   "outputs": [
    {
     "name": "stdout",
     "output_type": "stream",
     "text": [
      "4136\n",
      "1035\n"
     ]
    },
    {
     "data": {
      "text/html": [
       "<div>\n",
       "<style scoped>\n",
       "    .dataframe tbody tr th:only-of-type {\n",
       "        vertical-align: middle;\n",
       "    }\n",
       "\n",
       "    .dataframe tbody tr th {\n",
       "        vertical-align: top;\n",
       "    }\n",
       "\n",
       "    .dataframe thead th {\n",
       "        text-align: right;\n",
       "    }\n",
       "</style>\n",
       "<table border=\"1\" class=\"dataframe\">\n",
       "  <thead>\n",
       "    <tr style=\"text-align: right;\">\n",
       "      <th></th>\n",
       "      <th>processed</th>\n",
       "      <th>label_num</th>\n",
       "    </tr>\n",
       "  </thead>\n",
       "  <tbody>\n",
       "    <tr>\n",
       "      <th>0</th>\n",
       "      <td>[tensor(11), tensor(21), tensor(20), tensor(37...</td>\n",
       "      <td>0</td>\n",
       "    </tr>\n",
       "    <tr>\n",
       "      <th>1</th>\n",
       "      <td>[tensor(3), tensor(6), tensor(2), tensor(5), t...</td>\n",
       "      <td>0</td>\n",
       "    </tr>\n",
       "    <tr>\n",
       "      <th>2</th>\n",
       "      <td>[tensor(119), tensor(151), tensor(82), tensor(...</td>\n",
       "      <td>0</td>\n",
       "    </tr>\n",
       "    <tr>\n",
       "      <th>3</th>\n",
       "      <td>[tensor(28), tensor(42), tensor(25), tensor(9)...</td>\n",
       "      <td>1</td>\n",
       "    </tr>\n",
       "    <tr>\n",
       "      <th>4</th>\n",
       "      <td>[tensor(29), tensor(17), tensor(33), tensor(39...</td>\n",
       "      <td>0</td>\n",
       "    </tr>\n",
       "  </tbody>\n",
       "</table>\n",
       "</div>"
      ],
      "text/plain": [
       "                                           processed  label_num\n",
       "0  [tensor(11), tensor(21), tensor(20), tensor(37...          0\n",
       "1  [tensor(3), tensor(6), tensor(2), tensor(5), t...          0\n",
       "2  [tensor(119), tensor(151), tensor(82), tensor(...          0\n",
       "3  [tensor(28), tensor(42), tensor(25), tensor(9)...          1\n",
       "4  [tensor(29), tensor(17), tensor(33), tensor(39...          0"
      ]
     },
     "execution_count": 12,
     "metadata": {},
     "output_type": "execute_result"
    }
   ],
   "source": [
    "set_train_Parameters = data.iloc[:int(0.8 * len(data))]\n",
    "\n",
    "set_test_Parameters = data.iloc[int((0.8) * len(data)):]\n",
    "\n",
    "training_data = set_train_Parameters[[\"processed\", \"label_num\"]]\n",
    "\n",
    "test_data = set_test_Parameters[[\"processed\", \"label_num\"]]\n",
    "\n",
    "training_data_no_proccess = set_train_Parameters[[\"text\", \"label_num\"]]\n",
    "\n",
    "test_data_no_proccess = set_test_Parameters[[\"text\", \"label_num\"]]\n",
    "\n",
    "\n",
    "print(len(training_data_no_proccess))\n",
    "print(len(test_data_no_proccess))\n",
    "training_data.head()\n"
   ]
  },
  {
   "cell_type": "code",
   "execution_count": 13,
   "metadata": {},
   "outputs": [
    {
     "data": {
      "text/plain": [
       "Text(0, 0.5, 'Count')"
      ]
     },
     "execution_count": 13,
     "metadata": {},
     "output_type": "execute_result"
    },
    {
     "data": {
      "image/png": "[encoded data removed]",
      "text/plain": [
       "<Figure size 640x480 with 1 Axes>"
      ]
     },
     "metadata": {},
     "output_type": "display_data"
    }
   ],
   "source": [
    "spam_count = training_data_no_proccess[\"label_num\"].value_counts()[1]\n",
    "non_spam_count = training_data_no_proccess[\"label_num\"].value_counts()[0]\n",
    "\n",
    "plt.bar([\"Spam\", \"Non-Spam\"], [spam_count, non_spam_count])\n",
    "plt.title(\"Spam vs Non-Spam\")\n",
    "plt.xlabel(\"Email Type\")\n",
    "plt.ylabel(\"Count\")"
   ]
  },
  {
   "cell_type": "code",
   "execution_count": 14,
   "metadata": {},
   "outputs": [
    {
     "name": "stdout",
     "output_type": "stream",
     "text": [
      "(tensor([11, 21, 20, 37, 19,  0, 13, 39, 38, 36, 24, 18, 17, 41, 26, 22, 30, 12,\n",
      "         9, 32,  3,  8, 28, 27, 29, 35,  7, 40, 31, 42, 38, 34,  7,  1, 41,  4,\n",
      "        25, 15, 16,  6, 37,  5, 19, 23,  2, 14, 10, 33]), tensor(0))\n"
     ]
    }
   ],
   "source": [
    "class SpamDataset(Dataset):\n",
    "    def __init__(self, df, text_col, label_col):\n",
    "        self.processed_texts = df[text_col].tolist()  \n",
    "        self.labels = df[label_col].tolist()\n",
    "       \n",
    "    def __len__(self):\n",
    "        return len(self.processed_texts)\n",
    "\n",
    "    def __getitem__(self,idx):\n",
    "        # Convert tokens to indices\n",
    "        tokens = self.processed_texts[idx]\n",
    "        label = self.labels[idx]\n",
    "        return torch.tensor(tokens, dtype=torch.long), torch.tensor(label, dtype=torch.long)\n",
    "        \n",
    "\n",
    "\n",
    "train_datasets = SpamDataset(training_data, \"processed\", \"label_num\")\n",
    "test_datasets = SpamDataset(test_data, \"processed\", \"label_num\")\n",
    "\n",
    "print(train_datasets.__getitem__(0))\n",
    "\n"
   ]
  },
  {
   "cell_type": "code",
   "execution_count": 15,
   "metadata": {},
   "outputs": [],
   "source": [
    "class TextClassifier(nn.Module):\n",
    "    def __init__(self, vocab_size, embedding_dim, hidden_dim, num_classes):\n",
    "        super(TextClassifier, self).__init__()\n",
    "        self.embedding = nn.Embedding(vocab_size, embedding_dim)\n",
    "        self.rnn = nn.LSTM(embedding_dim, hidden_dim, batch_first=True)\n",
    "        self.fc = nn.Linear(hidden_dim, num_classes)\n",
    "        \n",
    "    def forward(self, x):\n",
    "        embedded = self.embedding(x)\n",
    "        output, _ = self.rnn(embedded)\n",
    "        last_hidden = output[:, -1, :]\n",
    "        logits = self.fc(last_hidden)\n",
    "        return logits\n",
    "\n",
    "def collate_fn(batch):\n",
    "    texts, labels = zip(*batch)\n",
    "    # Pad sequences to the same length\n",
    "    texts_padded = torch.nn.utils.rnn.pad_sequence(texts, batch_first=True, padding_value=0)\n",
    "    labels = torch.stack(labels)\n",
    "    return texts_padded, labels "
   ]
  },
  {
   "cell_type": "code",
   "execution_count": 1,
   "metadata": {},
   "outputs": [
    {
     "ename": "NameError",
     "evalue": "name 'vocab' is not defined",
     "output_type": "error",
     "traceback": [
      "\u001b[31m---------------------------------------------------------------------------\u001b[39m",
      "\u001b[31mNameError\u001b[39m                                 Traceback (most recent call last)",
      "\u001b[36mCell\u001b[39m\u001b[36m \u001b[39m\u001b[32mIn[1]\u001b[39m\u001b[32m, line 5\u001b[39m\n\u001b[32m      3\u001b[39m batch_size = \u001b[32m32\u001b[39m\n\u001b[32m      4\u001b[39m num_classes = \u001b[32m2\u001b[39m\n\u001b[32m----> \u001b[39m\u001b[32m5\u001b[39m VOCAB_SIZE = \u001b[38;5;28mlen\u001b[39m(\u001b[43mvocab\u001b[49m)\n\u001b[32m      6\u001b[39m \u001b[38;5;28mprint\u001b[39m(VOCAB_SIZE)\n\u001b[32m      7\u001b[39m EMBED_DIM = \u001b[32m128\u001b[39m\n",
      "\u001b[31mNameError\u001b[39m: name 'vocab' is not defined"
     ]
    }
   ],
   "source": [
    "learning_rate = 0.001\n",
    "num_epochs = 3\n",
    "batch_size = 32\n",
    "num_classes = 2\n",
    "VOCAB_SIZE = len(vocab)\n",
    "print(VOCAB_SIZE)\n",
    "EMBED_DIM = 128\n",
    "HIDDEN_DIM = 64\n",
    "\n",
    "model = TextClassifier(VOCAB_SIZE, EMBED_DIM, HIDDEN_DIM, num_classes)\n",
    "model.to(device)\n",
    "print(model)\n",
    "print(next(model.parameters()).is_cuda)\n",
    "\n",
    "\n",
    "train_dataloader = DataLoader(train_datasets, batch_size=32, shuffle=True, collate_fn=collate_fn)\n",
    "test_dataloader = DataLoader(test_datasets, batch_size=32, shuffle=False, collate_fn=collate_fn)\n",
    "\n",
    "criterion = nn.CrossEntropyLoss()\n",
    "optimizer = torch.optim.Adam(model.parameters(), lr=learning_rate)\n",
    "\n",
    "\n",
    "model.train()\n",
    "for epoch in range(num_epochs):\n",
    "    running_loss = 0.0\n",
    "    for text_batch, label_batch in train_dataloader:\n",
    "        optimizer.zero_grad()\n",
    "        text_batch = text_batch.to(device)\n",
    "        label_batch = label_batch.to(device)        \n",
    "        outputs = model(text_batch)\n",
    "        loss = criterion(outputs, label_batch)\n",
    "        loss.backward()\n",
    "        optimizer.step()\n",
    "        running_loss += loss.item()\n",
    "    print(f'Epoch {epoch+1}, Loss: {loss.item():.4f}')\n",
    "\n",
    "\n",
    "    # for inputs in test_dataloader:\n",
    "    #     optimizer.zero_grad()\n",
    "    #     inputs = torch.LongTensor(inputs)\n",
    "    #     targets = inputs.clone()\n",
    "    #     outputs = model(inputs)\n",
    "    #     loss = criterion(outputs.view(-1, num_classes), targets.view(-1))\n",
    "    #     loss.backward()\n",
    "    #     optimizer.step()\n",
    "\n",
    "    #     total_loss += loss.item() * len(inputs)\n",
    "    #     total_samples += len(inputs)\n",
    "\n",
    "    # # Evaluate on the validation set after every epoch\n",
    "    # model.eval()\n",
    "    # total_val_loss = 0.0\n",
    "    # total_val_samples = 0\n",
    "    # with torch.no_grad():\n",
    "    #     for inputs in test_dataloader:\n",
    "    #         inputs = torch.LongTensor(inputs)\n",
    "    #         targets = inputs.clone()\n",
    "    #         outputs = model(inputs)\n",
    "    #         val_loss = criterion(outputs.view(-1, num_classes), targets.view(-1))\n",
    "\n",
    "    #         total_val_loss += val_loss.item() * len(inputs)\n",
    "    #         total_val_samples += len(inputs)\n",
    "\n",
    "    # avg_loss = total_loss / total_samples\n",
    "    # avg_val_loss = total_val_loss / total_val_samples\n",
    "\n",
    "    # print(f\"Epoch {epoch+1}/{num_epochs}, Train Loss: {avg_loss:.4f}, Val Loss: {avg_val_loss:.4f}\")"
   ]
  },
  {
   "cell_type": "code",
   "execution_count": null,
   "metadata": {},
   "outputs": [
    {
     "name": "stdout",
     "output_type": "stream",
     "text": [
      "True\n",
      "Test Loss: 0.0198\n",
      "Accuracy: 69.47%\n"
     ]
    }
   ],
   "source": [
    "model.eval()\n",
    "print(next(model.parameters()).is_cuda)\n",
    "\n",
    "def test(model, test_dataloader):\n",
    "    model.eval()\n",
    "    test_loss = 0\n",
    "    correct = 0\n",
    "    with torch.no_grad():\n",
    "        for inputs, labels in test_dataloader:\n",
    "            inputs = inputs.to(device)\n",
    "            labels = labels.to(device)\n",
    "            outputs = model(inputs)\n",
    "            loss = criterion(outputs, labels)\n",
    "            test_loss += loss.item()\n",
    "            _, predicted = torch.max(outputs.data, 1)\n",
    "            correct += (predicted == labels).sum().item()\n",
    "    test_loss /= len(test_data)\n",
    "    accuracy = 100 * correct / len(test_dataloader.dataset)\n",
    "    return test_loss, accuracy\n",
    "\n",
    "test_loss, accuracy = test(model, test_dataloader)\n",
    "\n",
    "print(f'Test Loss: {test_loss:.4f}')\n",
    "print(f'Accuracy: {accuracy:.2f}%')"
   ]
  },
  {
   "cell_type": "code",
   "execution_count": 26,
   "metadata": {},
   "outputs": [
    {
     "name": "stdout",
     "output_type": "stream",
     "text": [
      "Path to dataset files: C:\\Users\\amann\\.cache\\kagglehub\\datasets\\jackksoncsie\\spam-email-dataset\\versions\\1\n"
     ]
    }
   ],
   "source": [
    "\n",
    "# Download latest version\n",
    "path = kagglehub.dataset_download(\"jackksoncsie/spam-email-dataset\")\n",
    "\n",
    "print(\"Path to dataset files:\", path)"
   ]
  },
  {
   "cell_type": "code",
   "execution_count": 27,
   "metadata": {},
   "outputs": [
    {
     "name": "stdout",
     "output_type": "stream",
     "text": [
      "C:\\Users\\amann\\.cache\\kagglehub\\datasets\\jackksoncsie\\spam-email-dataset\\versions\\1\\emails.csv\n"
     ]
    }
   ],
   "source": [
    "csv = os.path.join(path, \"emails.csv\")\n",
    "print(csv)"
   ]
  },
  {
   "cell_type": "code",
   "execution_count": 28,
   "metadata": {},
   "outputs": [
    {
     "name": "stdout",
     "output_type": "stream",
     "text": [
      "File Exists\n"
     ]
    }
   ],
   "source": [
    "if os.path.exists(csv):\n",
    "    print(\"File Exists\")\n",
    "else:\n",
    "    print(\"File doesn't exist\")"
   ]
  },
  {
   "cell_type": "code",
   "execution_count": null,
   "metadata": {},
   "outputs": [],
   "source": [
    "new_data = pd.read_csv(csv)\n",
    "new_df = pd.DataFrame(new_data)"
   ]
  },
  {
   "cell_type": "code",
   "execution_count": null,
   "metadata": {},
   "outputs": [
    {
     "name": "stdout",
     "output_type": "stream",
     "text": [
      "Test Loss: 0.0970\n",
      "Accuracy: 75.63%\n"
     ]
    }
   ],
   "source": [
    "\n",
    "new_data[\"processed\"] = new_data[\"text\"].apply(pre_processing)\n",
    "\n",
    "# new_data.info()\n",
    "\n",
    "procceed_new_data = new_data[[\"processed\", \"spam\"]]\n",
    "\n",
    "\n",
    "test_new_datasets = SpamDataset(procceed_new_data, \"processed\", \"spam\")\n",
    "new_test_dataLoader = DataLoader(test_new_datasets, batch_size=32, shuffle=False, collate_fn=collate_fn)\n",
    "\n",
    "test_loss, accuracy = test(model, new_test_dataLoader)\n",
    "\n",
    "print(f'Test Loss: {test_loss:.4f}')\n",
    "print(f'Accuracy: {accuracy:.2f}%')\n",
    "\n"
   ]
  },
  {
   "cell_type": "code",
   "execution_count": 52,
   "metadata": {},
   "outputs": [
    {
     "ename": "AttributeError",
     "evalue": "'SpamDataset' object has no attribute 'info'",
     "output_type": "error",
     "traceback": [
      "\u001b[31m---------------------------------------------------------------------------\u001b[39m",
      "\u001b[31mAttributeError\u001b[39m                            Traceback (most recent call last)",
      "\u001b[36mCell\u001b[39m\u001b[36m \u001b[39m\u001b[32mIn[52]\u001b[39m\u001b[32m, line 1\u001b[39m\n\u001b[32m----> \u001b[39m\u001b[32m1\u001b[39m \u001b[43mtest_datasets\u001b[49m\u001b[43m.\u001b[49m\u001b[43minfo\u001b[49m()\n",
      "\u001b[31mAttributeError\u001b[39m: 'SpamDataset' object has no attribute 'info'"
     ]
    }
   ],
   "source": [
    "test_datasets.info()"
   ]
  },
  {
   "cell_type": "code",
   "execution_count": null,
   "metadata": {},
   "outputs": [],
   "source": []
  }
 ],
 "metadata": {
  "kernelspec": {
   "display_name": ".venv",
   "language": "python",
   "name": "python3"
  },
  "language_info": {
   "codemirror_mode": {
    "name": "ipython",
    "version": 3
   },
   "file_extension": ".py",
   "mimetype": "text/x-python",
   "name": "python",
   "nbconvert_exporter": "python",
   "pygments_lexer": "ipython3",
   "version": "3.11.6"
  }
 },
 "nbformat": 4,
 "nbformat_minor": 2
}
